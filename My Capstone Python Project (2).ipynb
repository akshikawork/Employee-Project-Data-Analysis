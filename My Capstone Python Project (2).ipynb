{
  "nbformat": 4,
  "nbformat_minor": 0,
  "metadata": {
    "colab": {
      "provenance": []
    },
    "kernelspec": {
      "name": "python3",
      "display_name": "Python 3"
    },
    "language_info": {
      "name": "python"
    }
  },
  "cells": [
    {
      "cell_type": "code",
      "source": [
        "#importing pandas library to begin with\n",
        "\n",
        "import pandas as pd"
      ],
      "metadata": {
        "id": "MAsUfIyiTjh5"
      },
      "execution_count": null,
      "outputs": []
    },
    {
      "cell_type": "code",
      "execution_count": null,
      "metadata": {
        "id": "K8Fzs-2ZRX_m"
      },
      "outputs": [],
      "source": [
        "#Task 1:\n",
        "#creating Project Data dataframe\n",
        "project_data = {\n",
        "    'ID': ['A001', 'A002', 'A003', 'A004', 'A005', 'A002', 'A005', 'A003', 'A001', 'A003', 'A001', 'A004', 'A004', 'A005'],\n",
        "    'Project': [\n",
        "        'Project 1', 'Project 2', 'Project 3', 'Project 4', 'Project 5',\n",
        "        'Project 6', 'Project 7', 'Project 8', 'Project 9', 'Project 10',\n",
        "        'Project 11', 'Project 12', 'Project 13', 'Project 14'\n",
        "    ],\n",
        "    'Cost': [1002000, 2000000, 4500000, 5500000, None, 680000, 400000, 350000,\n",
        "             None, 300000, 2000000, 1000000, 3000000, 200000],\n",
        "    'Status': ['Finished', 'Ongoing', 'Finished', 'Ongoing', 'Finished', 'Failed',\n",
        "               'Finished', 'Failed', 'Ongoing', 'Finished', 'Failed', 'Ongoing', 'Finished', 'Finished']\n",
        "}\n",
        "\n",
        "project_df = pd.DataFrame(project_data)\n",
        "#printing to see the final outcome\n",
        "print(project_df)"
      ]
    },
    {
      "cell_type": "markdown",
      "source": [],
      "metadata": {
        "id": "cqXKubk5Tc_1"
      }
    },
    {
      "cell_type": "code",
      "source": [
        "# creating employee dataframe`\n",
        "employee_data = {\n",
        "    'ID': ['A001', 'A002', 'A003', 'A004', 'A005'],\n",
        "    'Name': ['John Alter', 'Alice Luxumberg', 'Tom Sabestine', 'Nina Adgra', 'Amy Johny'],\n",
        "    'Gender': ['M', 'F', 'M', 'F', 'F'],\n",
        "    'City': ['Paris', 'London', 'Berlin', 'Newyork', 'Madrid'],\n",
        "    'Age': [25, 27, 29, 31, 30]\n",
        "}\n",
        "\n",
        "employee_df = pd.DataFrame(employee_data)\n",
        "#printing to see the final outcome\n",
        "print(employee_df)"
      ],
      "metadata": {
        "id": "Z_epAgS3Td-J"
      },
      "execution_count": null,
      "outputs": []
    },
    {
      "cell_type": "markdown",
      "source": [],
      "metadata": {
        "id": "JF13fk7ATHYe"
      }
    },
    {
      "cell_type": "code",
      "source": [
        "# creating seniority level dataframe\n",
        "seniority_data = {\n",
        "    'ID': ['A001', 'A002', 'A003', 'A004', 'A005'],\n",
        "    'Designation Level': [2, 2, 3, 2, 3]\n",
        "}\n",
        "\n",
        "seniority_df = pd.DataFrame(seniority_data)\n",
        "#printing to see the final outcome\n",
        "print(seniority_df)"
      ],
      "metadata": {
        "id": "W9gV9BVuSf4p"
      },
      "execution_count": null,
      "outputs": []
    },
    {
      "cell_type": "code",
      "source": [
        "# Create a folder to save CSV files if it does not exist\n",
        "import os\n",
        "folder_name = 'Capstone Project Python'\n",
        "os.makedirs(folder_name, exist_ok=True)\n",
        "\n",
        "# Save the dataframes as CSV files without the index column\n",
        "project_df.to_csv(folder_name + '/Project_Data.csv', index=False)\n",
        "employee_df.to_csv(folder_name + '/Employee_Data.csv', index=False)\n",
        "seniority_df.to_csv(folder_name + '/Seniority_Level.csv', index=False)\n"
      ],
      "metadata": {
        "id": "b-VYjRoAStJh"
      },
      "execution_count": null,
      "outputs": []
    },
    {
      "cell_type": "code",
      "source": [
        "# Task 1: Define three DataFrames from provided data:\n",
        "# 1) Project DataFrame containing project IDs, names, costs, and status.\n",
        "# 2) Employee DataFrame listing employee IDs, full names, gender, city, and age.\n",
        "# 3) Seniority Level DataFrame mapping employee IDs to their designation levels.\n",
        "# Each DataFrame is created using Python dictionaries and converted to pandas DataFrames.\n",
        "# Finally, all three DataFrames are saved as separate CSV files for use in later tasks."
      ],
      "metadata": {
        "id": "tXDiohCJcTg4"
      },
      "execution_count": null,
      "outputs": []
    },
    {
      "cell_type": "code",
      "source": [
        "# Task 2: Replace missing 'Cost' values with the running average using a for loop\n",
        "cost_sum = 0\n",
        "cost_count = 0\n",
        "\n",
        "# Loop through all project rows\n",
        "for i in range(len(project_df)):\n",
        "    if pd.notnull(project_df.loc[i, 'Cost']):\n",
        "        # If cost is not null, add to sum and count\n",
        "        cost_sum += project_df.loc[i, 'Cost']\n",
        "        cost_count += 1\n",
        "    else:\n",
        "        # Calculate running average\n",
        "        running_avg = cost_sum / cost_count if cost_count != 0 else 0\n",
        "        # Fill missing value\n",
        "        project_df.loc[i, 'Cost'] = running_avg\n",
        "        # Add the filled value to running total and count\n",
        "        cost_sum += running_avg\n",
        "        cost_count += 1\n",
        "\n",
        "# Convert to float to avoid exponential formatting issues\n",
        "project_df['Cost'] = project_df['Cost'].astype(float)\n",
        "\n",
        "# Save updated file\n",
        "project_df.to_csv(folder_name + '/Project_Data_Updated.csv', index=False)\n",
        "print(project_df)"
      ],
      "metadata": {
        "id": "sLfJpFjMVOyr"
      },
      "execution_count": null,
      "outputs": []
    },
    {
      "cell_type": "markdown",
      "source": [
        "\n"
      ],
      "metadata": {
        "id": "L5TYsw3FlgoN"
      }
    },
    {
      "cell_type": "code",
      "source": [
        "# Task 2: Load the Project DataFrame from the saved CSV file.\n",
        "# Identified missing values in the 'Cost' column.\n",
        "# Used a for loop to iterate over each cost value.\n",
        "# Calculated and replaced missing costs with the running average of previous non-missing costs.\n",
        "# Updated the DataFrame with the filled values and save it as a new CSV file.\n",
        "# printed the final output to check if the code was implemented successfully"
      ],
      "metadata": {
        "id": "sYu-hLVbc0NJ"
      },
      "execution_count": null,
      "outputs": []
    },
    {
      "cell_type": "code",
      "source": [
        "#Task 3: Split the name column in the Employee dataframe into two new columns “First Name”, and “Last Name” and remove the older “name” column.\n",
        "# Load the original employee file\n",
        "employee_df = pd.read_csv('Capstone Project Python/Employee_Data.csv')\n",
        "\n",
        "# Split 'Name' into 'First Name' and 'Last Name'\n",
        "employee_df[['First Name', 'Last Name']] = employee_df['Name'].str.split(' ', n=1, expand=True)\n",
        "\n",
        "# Drop the original 'Name' column\n",
        "employee_df = employee_df.drop(columns=['Name'])\n",
        "\n",
        "# Save the updated DataFrame\n",
        "employee_df.to_csv('Capstone Project Python/Employee_Data_Updated.csv', index=False)\n",
        "\n",
        "# Print to verify\n",
        "print(employee_df)\n"
      ],
      "metadata": {
        "id": "IWJHNf7EXtbd"
      },
      "execution_count": null,
      "outputs": []
    },
    {
      "cell_type": "code",
      "source": [
        "# Task 3: Loaded the Employee DataFrame from the saved CSV file.\n",
        "# Split the ‘Name’ column into two new columns: ‘First Name’ and ‘Last Name’ using the first space as delimiter.\n",
        "# Removed the original ‘Name’ column to avoid redundancy.\n",
        "# Saved the updated DataFrame with separated name fields as a new CSV file.\n",
        "# Printed the updated DataFrame to confirm the changes."
      ],
      "metadata": {
        "id": "rDY4rYK1ZYhU"
      },
      "execution_count": null,
      "outputs": []
    },
    {
      "cell_type": "code",
      "source": [
        "# Task 4: Merge the three dataframes (project, employee, seniority) into one final dataframe based on 'ID'\n",
        "project_df = pd.read_csv(folder_name + '/Project_Data_Updated.csv')\n",
        "employee_df = pd.read_csv(folder_name + '/Employee_Data_Updated.csv')\n",
        "seniority_df = pd.read_csv(folder_name + '/Seniority_Level.csv')\n",
        "\n",
        "# Merge employee and seniority dataframes on 'ID'\n",
        "emp_senior_df = pd.merge(employee_df, seniority_df, on='ID', how='left')\n",
        "# Merge project dataframe with combined employee-seniority dataframe on 'ID'\n",
        "Final = pd.merge(project_df, emp_senior_df, on='ID', how='left')\n",
        "\n",
        "# Save final merged dataframe\n",
        "Final.to_csv(folder_name + '/Final_Data.csv', index=False)\n",
        "print(Final)"
      ],
      "metadata": {
        "id": "huXIWxFmdJY6"
      },
      "execution_count": null,
      "outputs": []
    },
    {
      "cell_type": "code",
      "source": [
        "# Task 4: Combined the Project, Employee, and Seniority Level DataFrames into a single consolidated DataFrame named “Final” using the common 'ID' column.\n",
        "# This unified dataset links project details with employee and designation information.\n",
        "# The final DataFrame is saved as a CSV file.\n",
        "# printed the final output to check if the code was implemented successfully"
      ],
      "metadata": {
        "id": "_7v_v5hrdkhu"
      },
      "execution_count": null,
      "outputs": []
    },
    {
      "cell_type": "code",
      "source": [
        "#Task 5: Add a new bonus column in the Final dataframe. Give a 5% bonus concerning project cost only to employees who have finished the projects.\n",
        "Final['Bonus'] = Final.apply(lambda row: row['Cost'] * 0.05 if row['Status'] == 'Finished' else 0, axis=1)\n",
        "\n",
        "#save the changes to csv file for further use\n",
        "Final.to_csv(folder_name + '/Final_Data.csv', index=False)"
      ],
      "metadata": {
        "id": "tfwKh_Cme8f1"
      },
      "execution_count": null,
      "outputs": []
    },
    {
      "cell_type": "code",
      "source": [
        "# Task 5: Added a new column named “Bonus” to the Final DataFrame.\n",
        "# This column calculates a 5% bonus on the project cost only for employees involved in finished projects.\n",
        "# The bonus is set to zero for all other statuses.\n",
        "# The updated DataFrame is prepared & saved on the same csv file.\n",
        "# printed the final output to check if the code was implemented successfully"
      ],
      "metadata": {
        "id": "LcoMzJAefk4-"
      },
      "execution_count": null,
      "outputs": []
    },
    {
      "cell_type": "code",
      "source": [
        "#Task 6: Demote the designation level by 1, whose projects have status “fail”. Delete the employees record whose designation level is above 4.\n",
        "#Demote designation level by 1 for employees whose project status is 'Failed'\n",
        "Final['Designation Level'] = Final.apply(\n",
        "    lambda row: row['Designation Level'] + 1 if row['Status'] == 'Failed' else row['Designation Level'],\n",
        "    axis=1 ) # Apply the function row-wise\n",
        "\n",
        "# Remove records of employees whose designation level exceeds 4\n",
        "Final = Final[Final['Designation Level'] <= 4].reset_index(drop=True)\n",
        "\n",
        "# Save the updated DataFrame to a CSV file\n",
        "Final.to_csv('/content/Capstone Project Python/Final_Data_Updated.csv', index=False)\n",
        "\n",
        "# Print the updated DataFrame to confirm changes\n",
        "print(Final)"
      ],
      "metadata": {
        "id": "MPTesITAf2cJ"
      },
      "execution_count": null,
      "outputs": []
    },
    {
      "cell_type": "code",
      "source": [
        "# Task 6: Demote the designation level by 1 for employees whose project status is 'Failed'\n",
        "Final.loc[Final['Status'] == 'Failed', 'Designation Level'] -= 1\n",
        "\n",
        "# Remove employee records whose designation level is now greater than 4 (not eligible)\n",
        "Final = Final[Final['Designation Level'] <= 4].reset_index(drop=True)\n",
        "\n",
        "# Save the updated final dataframe after demotion and filtering\n",
        "Final.to_csv(folder_name + '/Final_Data_Updated.csv', index=False)\n",
        "print(Final)"
      ],
      "metadata": {
        "id": "5Wqlenpgf4kF"
      },
      "execution_count": null,
      "outputs": []
    },
    {
      "cell_type": "code",
      "source": [
        "# Task 6: Demoted the designation level by 1 for employees associated with projects that have failed.\n",
        "# Then, remove all employee records whose designation level exceeds 4, as they are no longer eligible to head projects.\n",
        "# The updated DataFrame reflects these changes.\n",
        "# printed the final output to check if the code was implemented successfully"
      ],
      "metadata": {
        "id": "uV0exP0ZmJVB"
      },
      "execution_count": null,
      "outputs": []
    },
    {
      "cell_type": "code",
      "source": [
        "# Task 7 :Add “Mr.” and “Mrs.” to the first name column and drop the gender column.\n",
        "Final['First Name'] = Final.apply(lambda row: 'Mr. ' + row['First Name'] if row['Gender'] == 'M' else 'Mrs. ' + row['First Name'], axis=1)\n",
        "Final = Final.drop(columns=['Gender'])\n",
        "\n",
        "#saved the changed to the csv file for further use\n",
        "Final.to_csv(folder_name + '/Final_Data_Task7.csv', index=False)\n",
        "print(Final)\n"
      ],
      "metadata": {
        "id": "Kq5UeI22nNst"
      },
      "execution_count": null,
      "outputs": []
    },
    {
      "cell_type": "code",
      "source": [
        "# Task 7: Added the appropriate prefix “Mr.” for male and “Mrs.” for female employees to the “First Name” column based on their gender.\n",
        "# After updating the names, remove the “Gender” column from the DataFrame to streamline the dataset for further processing.\n",
        "# Printed the final output to check if the code was implemented successfully"
      ],
      "metadata": {
        "id": "53KbXNegnbQ4"
      },
      "execution_count": null,
      "outputs": []
    },
    {
      "cell_type": "code",
      "source": [
        "# Task 8: Promote designation level by 1 for employees whose age is more than 29 using IF condition\n",
        "\n",
        "# Loop through each row in the Final DataFrame\n",
        "for i in range(len(Final)):\n",
        "    # If the employee's age is greater than 29, increase their designation level by 1\n",
        "    if Final.loc[i, 'Age'] > 29:\n",
        "        Final.loc[i, 'Designation Level'] += 1\n",
        "\n",
        "# Save the updated DataFrame to a CSV file\n",
        "Final.to_csv(folder_name + '/Final_Data_Task8.csv', index=False)\n",
        "\n",
        "# Print the updated DataFrame to confirm the changes\n",
        "print(Final)\n"
      ],
      "metadata": {
        "id": "jE3cMwySnrcD"
      },
      "execution_count": null,
      "outputs": []
    },
    {
      "cell_type": "code",
      "source": [
        "# Task 8: Looped through each employee record and use an if condition to check if the employee's age is greater than 29.\n",
        "# If true, increased their designation level by 1 to reflect a promotion based on seniority.\n",
        "# printed the final output to check if the code was implemented successfully"
      ],
      "metadata": {
        "id": "3mEro8s3n2Pk"
      },
      "execution_count": null,
      "outputs": []
    },
    {
      "cell_type": "code",
      "source": [
        "#Task 9 :Add the cost of all projects for each Employee and save it in new dataframe “TotalProjCost” with three columns ID, First Name, and Total TotalProjCost = pd.pivot_table(\n",
        "# Step 1: Use pivot_table to calculate total cost per employee\n",
        "TotalProjCost = pd.pivot_table(\n",
        "    Final,\n",
        "    values='Cost',\n",
        "    index=['ID', 'First Name'],\n",
        "    aggfunc='sum'\n",
        ").reset_index()\n",
        "\n",
        "# Step 2: Rename the column to 'Total cost'\n",
        "TotalProjCost = TotalProjCost.rename(columns={'Cost': 'Total cost'})\n",
        "\n",
        "#  Step 3: Convert values to integer type (handles exponential too)\n",
        "TotalProjCost['Total cost'] = TotalProjCost['Total cost'].astype(int)\n",
        "\n",
        "# Step 4: Print the final DataFrame\n",
        "print(TotalProjCost)\n"
      ],
      "metadata": {
        "id": "QuZUCEAboQ-P"
      },
      "execution_count": null,
      "outputs": []
    },
    {
      "cell_type": "code",
      "source": [
        "# Task 9\n",
        "# This code calculates total project cost for each employee using a pivot table.\n",
        "# It groups by 'ID' and 'First Name', sums the 'Cost', and resets the index.\n",
        "# The result is renamed to 'Total cost' and converted to integers.\n",
        "# The final DataFrame displays each employee’s total project cost clearly."
      ],
      "metadata": {
        "id": "-5YmM5OFo3EQ"
      },
      "execution_count": null,
      "outputs": []
    },
    {
      "cell_type": "code",
      "source": [
        "# Task 10: Print all employee details where the city name contains the letter 'o' using an if condition in a loop\n",
        "\n",
        "# Initialize an empty list to store matching employee rows\n",
        "result = []\n",
        "\n",
        "# Loop through each row in the Final DataFrame\n",
        "for i in range(len(Final)):\n",
        "    # Convert city name to lowercase and check if it contains the letter 'o'\n",
        "    if 'o' in Final.loc[i, 'City'].lower():\n",
        "        # If condition is met, append the entire row to the result list\n",
        "        result.append(Final.loc[i])\n",
        "\n",
        "# Convert the list of matching rows into a new DataFrame\n",
        "employees_with_o = pd.DataFrame(result)\n",
        "\n",
        "# Print the final DataFrame showing employees whose city name contains 'o'\n",
        "print(employees_with_o)\n"
      ],
      "metadata": {
        "id": "R5Jj4gS7pBU8"
      },
      "execution_count": null,
      "outputs": []
    },
    {
      "cell_type": "code",
      "source": [
        "# Task 10: Looped through each employee record and check if the city name contains the letter \"o\" (case-insensitive).\n",
        "# Collected and printed all such employee details for location-based analysis."
      ],
      "metadata": {
        "id": "MYV3MAm3pNZx"
      },
      "execution_count": null,
      "outputs": []
    },
    {
      "cell_type": "code",
      "source": [],
      "metadata": {
        "id": "g3GDZWiCqfiA"
      },
      "execution_count": null,
      "outputs": []
    }
  ]
}